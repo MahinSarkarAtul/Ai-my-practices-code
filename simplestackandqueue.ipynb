{
 "cells": [
  {
   "cell_type": "code",
   "execution_count": 2,
   "id": "32f9af05-e7e0-4e37-a4f0-d26133313c1f",
   "metadata": {},
   "outputs": [
    {
     "name": "stdout",
     "output_type": "stream",
     "text": [
      "10\n",
      "20\n",
      "30\n"
     ]
    }
   ],
   "source": [
    "import queue\n",
    "q=queue.Queue()\n",
    "q.put(10)\n",
    "q.put(20)\n",
    "q.put(30)\n",
    "\n",
    "while not q.empty():\n",
    "    print(q.get())"
   ]
  },
  {
   "cell_type": "code",
   "execution_count": 3,
   "id": "38f74778-e60a-4b71-9054-b9d48381330e",
   "metadata": {},
   "outputs": [
    {
     "name": "stdout",
     "output_type": "stream",
     "text": [
      "30\n",
      "20\n",
      "10\n"
     ]
    }
   ],
   "source": [
    "import queue\n",
    "q=queue.LifoQueue()\n",
    "q.put(10)\n",
    "q.put(20)\n",
    "q.put(30)\n",
    "\n",
    "while not q.empty():\n",
    "    print(q.get())"
   ]
  },
  {
   "cell_type": "code",
   "execution_count": 9,
   "id": "1166cd9b-eb99-4f2e-b0e4-073df48d256c",
   "metadata": {},
   "outputs": [
    {
     "name": "stdout",
     "output_type": "stream",
     "text": [
      "Priority: 1, Task: Task with priority 1\n",
      "Priority: 2, Task: Task with priority 2\n",
      "Priority: 3, Task: Task with priority 3\n"
     ]
    }
   ],
   "source": [
    "import queue\n",
    "\n",
    "# Initialize a priority queue\n",
    "pq = queue.PriorityQueue()\n",
    "\n",
    "# Add items with priorities (priority, item)\n",
    "pq.put((1, \"Task with priority 1\"))\n",
    "pq.put((3, \"Task with priority 3\"))\n",
    "pq.put((2, \"Task with priority 2\"))\n",
    "\n",
    "# Retrieve items based on priority\n",
    "while not pq.empty():\n",
    "    priority, task = pq.get()\n",
    "    print(f\"Priority: {priority}, Task: {task}\")\n"
   ]
  },
  {
   "cell_type": "code",
   "execution_count": 11,
   "id": "728e7e9e-a95e-4910-a460-547bccc99bf0",
   "metadata": {},
   "outputs": [
    {
     "name": "stdout",
     "output_type": "stream",
     "text": [
      "(0, 'Hi')\n",
      "(30, 'Hello')\n",
      "(100, 'richard')\n"
     ]
    }
   ],
   "source": [
    "import queue\n",
    "pq=queue.PriorityQueue()\n",
    "pq.put((100,\"richard\"))\n",
    "pq.put((0,\"Hi\"))\n",
    "pq.put((30,\"Hello\"))\n",
    "\n",
    "while not pq.empty():\n",
    "    print(pq.get())"
   ]
  },
  {
   "cell_type": "code",
   "execution_count": 14,
   "id": "3dc6c949-d429-4a97-a367-a32338da7c9d",
   "metadata": {},
   "outputs": [
    {
     "name": "stdout",
     "output_type": "stream",
     "text": [
      "Hallo\n",
      "Hello\n",
      "hi\n",
      "richard\n"
     ]
    }
   ],
   "source": [
    "import queue\n",
    "pq=queue.PriorityQueue()\n",
    "pq.put(\"richard\")\n",
    "pq.put(\"hi\")\n",
    "pq.put(\"Hello\")\n",
    "pq.put(\"Hallo\")\n",
    "\n",
    "while not pq.empty():\n",
    "    print(pq.get())"
   ]
  },
  {
   "cell_type": "code",
   "execution_count": null,
   "id": "c2f1c56c-36de-453b-9691-000a927f8879",
   "metadata": {},
   "outputs": [],
   "source": []
  }
 ],
 "metadata": {
  "kernelspec": {
   "display_name": "Python 3 (ipykernel)",
   "language": "python",
   "name": "python3"
  },
  "language_info": {
   "codemirror_mode": {
    "name": "ipython",
    "version": 3
   },
   "file_extension": ".py",
   "mimetype": "text/x-python",
   "name": "python",
   "nbconvert_exporter": "python",
   "pygments_lexer": "ipython3",
   "version": "3.12.4"
  }
 },
 "nbformat": 4,
 "nbformat_minor": 5
}
